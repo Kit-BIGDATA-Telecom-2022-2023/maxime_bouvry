{
 "cells": [
  {
   "cell_type": "markdown",
   "metadata": {},
   "source": [
    "# Projet maison n° 4"
   ]
  },
  {
   "cell_type": "code",
   "execution_count": 8,
   "metadata": {},
   "outputs": [],
   "source": [
    "# imports\n",
    "import requests\n",
    "from bs4 import BeautifulSoup\n",
    "import pandas as pd\n",
    "from lxml import etree\n",
    "import nltk\n",
    "import re\n",
    "from numpy import extract\n",
    "\n",
    "\n",
    "\n"
   ]
  },
  {
   "cell_type": "markdown",
   "metadata": {},
   "source": []
  },
  {
   "cell_type": "code",
   "execution_count": 9,
   "metadata": {},
   "outputs": [],
   "source": [
    "html = \"\"\"\n",
    "<!doctype html>\n",
    "<html lang=\"en\">\n",
    "<head>\n",
    "    <meta charset=\"utf-8\">\n",
    "    <meta name=\"viewport\" content=\"width=device-width, initial-scale=1.0\">\n",
    "    <link rel=\"stylesheet\" href=\"https://unpkg.com/purecss@1.0.1/build/pure-min.css\" integrity=\"sha384-oAOxQR6DkCoMliIh8yFnu25d7Eq/PHS21PClpwjOTeU2jRSq11vu66rf90/cZr47\" crossorigin=\"anonymous\">\n",
    "    <link rel=\"stylesheet\" href=\"https://unpkg.com/purecss@1.0.1/build/grids-responsive-min.css\">\n",
    "    <link rel=\"stylesheet\" href=\"page2.css\">\n",
    "</head>\n",
    "<body>\n",
    "\n",
    "<div class=\"pure-menu pure-menu-horizontal\">\n",
    "    <a href=\"#\" class=\"pure-menu-heading\">Your Logo</a>\n",
    "    <ul class=\"pure-menu-list\">\n",
    "        <li class=\"pure-menu-item\"><a href=\"#\" class=\"pure-menu-link\">Home</a></li>\n",
    "        <li class=\"pure-menu-item pure-menu-selected\"><a href=\"#\" class=\"pure-menu-link\">Pricing</a></li>\n",
    "        <li class=\"pure-menu-item\"><a href=\"#\" class=\"pure-menu-link\">Contact</a></li>\n",
    "    </ul>\n",
    "</div>\n",
    "\n",
    "<div class=\"banner\">\n",
    "    <h1 class=\"banner-head\">\n",
    "        Simple Pricing.<br>\n",
    "        Try before you buy.\n",
    "    </h1>\n",
    "</div>\n",
    "\n",
    "<div class=\"l-content\">\n",
    "    <div class=\"pricing-tables pure-g\">\n",
    "        <div class=\"pure-u-1 pure-u-md-1-3\">\n",
    "            <div class=\"pricing-table pricing-table-free\">\n",
    "                <div class=\"pricing-table-header\">\n",
    "                    <h2>Personal</h2>\n",
    "\n",
    "                    <span class=\"pricing-table-price\">\n",
    "                        $5 <span>per month</span>\n",
    "                    </span>\n",
    "                </div>\n",
    "\n",
    "                <ul class=\"pricing-table-list\">\n",
    "                    <li>Free setup</li>\n",
    "                    <li>Custom sub-domain</li>\n",
    "                    <li>Standard customer support</li>\n",
    "                    <li>1GB file storage</li>\n",
    "                    <li>1 database</li>\n",
    "                    <li>Unlimited bandwidth</li>\n",
    "                </ul>\n",
    "\n",
    "                <button class=\"button-choose pure-button\">Choose</button>\n",
    "            </div>\n",
    "        </div>\n",
    "\n",
    "        <div class=\"pure-u-1 pure-u-md-1-3\">\n",
    "            <div class=\"pricing-table pricing-table-biz pricing-table-selected\">\n",
    "                <div class=\"pricing-table-header\">\n",
    "                    <h2>Small Business</h2>\n",
    "\n",
    "                    <span class=\"pricing-table-price\">\n",
    "                        $25 <span>per month</span>\n",
    "                    </span>\n",
    "                </div>\n",
    "\n",
    "                <ul class=\"pricing-table-list\">\n",
    "                    <li>Free setup</li>\n",
    "                    <li>Use your own domain</li>\n",
    "                    <li>Standard customer support</li>\n",
    "                    <li>10GB file storage</li>\n",
    "                    <li>5 databases</li>\n",
    "                    <li>Unlimited bandwidth</li>\n",
    "                </ul>\n",
    "\n",
    "                <button class=\"button-choose pure-button\">Choose</button>\n",
    "            </div>\n",
    "        </div>\n",
    "\n",
    "        <div class=\"pure-u-1 pure-u-md-1-3\">\n",
    "            <div class=\"pricing-table pricing-table-enterprise\">\n",
    "                <div class=\"pricing-table-header\">\n",
    "                    <h2>Enterprise</h2>\n",
    "\n",
    "                    <span class=\"pricing-table-price\">\n",
    "                        $45 <span>per month</span>\n",
    "                    </span>\n",
    "                </div>\n",
    "\n",
    "                <ul class=\"pricing-table-list\">\n",
    "                    <li>Free setup</li>\n",
    "                    <li>Use your own domain</li>\n",
    "                    <li>Premium customer support</li>\n",
    "                    <li>100GB file storage</li>\n",
    "                    <li>25 databases</li>\n",
    "                    <li>Unlimited bandwidth</li>\n",
    "                </ul>\n",
    "\n",
    "                <button class=\"button-choose pure-button\">Choose</button>\n",
    "            </div>\n",
    "        </div>\n",
    "    </div> <!-- end pricing-tables -->\n",
    "\n",
    "    <div class=\"information pure-g\">\n",
    "        <div class=\"pure-u-1 pure-u-md-1-2\">\n",
    "            <div class=\"l-box\">\n",
    "                <h3 class=\"information-head\">Get started today</h3>\n",
    "                <p>\n",
    "                    Lorem ipsum dolor sit amet, consectetur adipisicing elit, sed do eiusmod tempor incididunt ut labore et dolore magna aliqua. Lorem ipsum dolor sit amet, consectetur adipisicing elit, sed do eiusmod tempor incididunt ut labore et dolore magna aliqua. Ut enim ad minim veniam, quis nostrud exercitation.\n",
    "                </p>\n",
    "            </div>\n",
    "        </div>\n",
    "\n",
    "        <div class=\"pure-u-1 pure-u-md-1-2\">\n",
    "            <div class=\"l-box\">\n",
    "                <h3 class=\"information-head\">Pay monthly or annually</h3>\n",
    "                <p>\n",
    "                    Lorem ipsum dolor sit amet, consectetur adipisicing elit, sed do eiusmod tempor incididunt ut labore et dolore magna aliqua. Ullamco laboris nisi ut aliquip ex ea commodo\n",
    "                    consequat. Duis aute irure dolor in reprehenderit in voluptate velit esse.\n",
    "                </p>\n",
    "            </div>\n",
    "        </div>\n",
    "\n",
    "        <div class=\"pure-u-1 pure-u-md-1-2\">\n",
    "            <div class=\"l-box\">\n",
    "                <h3 class=\"information-head\">24/7 customer support</h3>\n",
    "                <p>\n",
    "                    Cillum dolore eu fugiat nulla pariatur. Excepteur sint occaecat cupidatat non proident, sunt in culpa qui officia deserunt mollit anim id est laborum. Lorem ipsum dolor sit amet, consectetur adipisicing elit, sed do eiusmod tempor incididunt ut labore et dolore magna aliqua.\n",
    "                </p>\n",
    "            </div>\n",
    "        </div>\n",
    "\n",
    "        <div class=\"pure-u-1 pure-u-md-1-2\">\n",
    "            <div class=\"l-box\">\n",
    "                <h3 class=\"information-head\">Cancel your plan anytime</h3>\n",
    "                <p>\n",
    "                    Duis aute irure dolor in reprehenderit in voluptate velit esse\n",
    "                    cillum dolore eu fugiat nulla pariatur. Excepteur sint occaecat cupidatat non proident, sunt in culpa qui officia deserunt mollit anim id est laborum.\n",
    "                </p>\n",
    "            </div>\n",
    "        </div>\n",
    "    </div> <!-- end information -->\n",
    "</div> <!-- end l-content -->\n",
    "\n",
    "<div class=\"footer l-box\">\n",
    "    <p>\n",
    "        <a href=\"#\">Try now</a> for 14 days. No credit card required. Header image courtesy of <a href='http://unsplash.com/'>Unsplash</a>.\n",
    "    </p>\n",
    "</div>\n",
    "\n",
    "\n",
    "</body>\n",
    "</html>\n",
    "\"\"\""
   ]
  },
  {
   "cell_type": "markdown",
   "metadata": {},
   "source": [
    "**Partie A**\n",
    "\n",
    "Ecrire une fonction `get_prices_from_url()` qui extrait des informations à partir des 2 pages ci-dessous.\n",
    "\n",
    "```python\n",
    "URL_PAGE2 = \"https://kim.fspot.org/cours/page2.html\"\n",
    "URL_PAGE3 = \"https://kim.fspot.org/cours/page3.html\"\n",
    "```\n",
    "\n",
    "Avec `URL_PAGE2`, la fonction doit retourner :\n",
    "\n",
    "```json\n",
    "{'Personal': {'price': '$5', 'storage': '1GB', 'databases': 1},\n",
    " 'Small Business': {'price': '$25', 'storage': '10GB', 'databases': 5},\n",
    " 'Enterprise': {'price': '$45', 'storage': '100GB', 'databases': 25}}\n",
    "```"
   ]
  },
  {
   "cell_type": "code",
   "execution_count": 10,
   "metadata": {},
   "outputs": [],
   "source": [
    "# partie A\n",
    "URL_PAGE2 = \"https://kim.fspot.org/cours/page2.html\"\n",
    "URL_PAGE3 = \"https://kim.fspot.org/cours/page3.html\"\n",
    "\n",
    "def get_prices_from_url(url):\n",
    "    soup = BeautifulSoup(html)\n",
    "    b=[]\n",
    "    c=[]\n",
    "    e=[]\n",
    "    price = []\n",
    "    for k in soup.findAll('span', {'class': \"pricing-table-price\"}):\n",
    "        price.append('$'+re.findall(r'\\d+', k.contents[0])[0])\n",
    "    for h in soup.find_all('h2') : \n",
    "        b.append(h.text)\n",
    "    for p in soup.find_all('li') : \n",
    "        c.append(re.findall(f'\\d+' + 'GB', p.text)) \n",
    "        e.append(re.findall(f'\\d+', p.text))\n",
    "    c1=''.join(map(str, c[6]))\n",
    "    c2=''.join(map(str, c[12]))\n",
    "    c3=''.join(map(str, c[18]))\n",
    "    e1=int(''.join(map(str, e[7])))\n",
    "    e2=int(''.join(map(str, e[13])))\n",
    "    e3=int(''.join(map(str, e[19])))\n",
    "    dico1= {'price' : price[0], 'storage' : c1, 'databases' : e1}\n",
    "    dico2= {'price' : price[1], 'storage' : c2, 'databases' : e2}\n",
    "    dico3= {'price' : price[2], 'storage' : c3, 'databases' : e3}\n",
    "    dico4= {b[0] : dico1 , b[1] : dico2 , b[2] : [dico3]}\n",
    "    return dico4"
   ]
  },
  {
   "cell_type": "code",
   "execution_count": 11,
   "metadata": {},
   "outputs": [
    {
     "data": {
      "text/plain": [
       "requests.models.Response"
      ]
     },
     "execution_count": 11,
     "metadata": {},
     "output_type": "execute_result"
    }
   ],
   "source": [
    "r = requests.get('https://kim.fspot.org/cours/page2.html')\n",
    "r.content\n",
    "type(r)\n"
   ]
  },
  {
   "cell_type": "code",
   "execution_count": 12,
   "metadata": {},
   "outputs": [
    {
     "ename": "SyntaxError",
     "evalue": "EOF while scanning triple-quoted string literal (588612268.py, line 9)",
     "output_type": "error",
     "traceback": [
      "\u001b[1;36m  Input \u001b[1;32mIn [12]\u001b[1;36m\u001b[0m\n\u001b[1;33m    stock_base =[soup.find_all('li')]\u001b[0m\n\u001b[1;37m                                     \n^\u001b[0m\n\u001b[1;31mSyntaxError\u001b[0m\u001b[1;31m:\u001b[0m EOF while scanning triple-quoted string literal\n"
     ]
    }
   ],
   "source": [
    "\"\"\"type(soup)\n",
    "titre_prix=[]\n",
    "stock_base = []\n",
    "\n",
    "#for i in soup.get('span') : \n",
    "#    titre[i] = soup.find('span')\n",
    "titre= [soup.find_all('h2')]\n",
    "prix = [soup.find_all('span')]\n",
    "stock_base =[soup.find_all('li')]\n"
   ]
  },
  {
   "cell_type": "code",
   "execution_count": 13,
   "metadata": {},
   "outputs": [
    {
     "name": "stdout",
     "output_type": "stream",
     "text": [
      "1GB\n",
      "[[], [], [], [], [], [], ['1GB'], [], [], [], [], [], ['10GB'], [], [], [], [], [], ['100GB'], [], []]\n",
      "[[], [], [], [], [], [], ['1'], ['1'], [], [], [], [], ['10'], ['5'], [], [], [], [], ['100'], ['25'], []]\n",
      "{'price': '$5', 'storage': '1GB', 'database': 1}\n",
      "{'price': '$25', 'storage': '10GB', 'database': 5}\n",
      "{'price': '$45', 'storage': '100GB', 'database': 25}\n",
      "{'Personal': {'price': '$5', 'storage': '1GB', 'database': 1}, 'Small Business': {'price': '$25', 'storage': '10GB', 'database': 5}, 'Enterprise': [{'price': '$45', 'storage': '100GB', 'database': 25}]}\n"
     ]
    }
   ],
   "source": [
    "\n",
    "soup = BeautifulSoup(html)\n",
    "b=[]\n",
    "c=[]\n",
    "e=[]\n",
    "price = []\n",
    "for k in soup.findAll('span', {'class': \"pricing-table-price\"}):\n",
    "    price.append('$'+re.findall(r'\\d+', k.contents[0])[0])\n",
    "for h in soup.find_all('h2') : \n",
    "    b.append(h.text)\n",
    "for p in soup.find_all('li') : \n",
    "    c.append(re.findall(f'\\d+' + 'GB', p.text)) \n",
    "    e.append(re.findall(f'\\d+', p.text))\n",
    "c1=''.join(map(str, c[6]))\n",
    "c2=''.join(map(str, c[12]))\n",
    "c3=''.join(map(str, c[18]))\n",
    "e1=int(''.join(map(str, e[7])))\n",
    "e2=int(''.join(map(str, e[13])))\n",
    "e3=int(''.join(map(str, e[19])))\n",
    "dico1= {'price' : price[0], 'storage' : c1, 'database' : e1}\n",
    "dico2= {'price' : price[1], 'storage' : c2, 'database' : e2}\n",
    "dico3= {'price' : price[2], 'storage' : c3, 'database' : e3}\n",
    "dico4= {b[0] : dico1 , b[1] : dico2 , b[2] : [dico3]}\n",
    "print(c1)\n",
    "print(c)\n",
    "print(e)\n",
    "print(dico1)\n",
    "print(dico2)\n",
    "print(dico3)\n",
    "print(dico4)\n"
   ]
  },
  {
   "cell_type": "code",
   "execution_count": 14,
   "metadata": {},
   "outputs": [
    {
     "data": {
      "text/plain": [
       "['$5', '$25', '$45']"
      ]
     },
     "execution_count": 14,
     "metadata": {},
     "output_type": "execute_result"
    }
   ],
   "source": [
    "from dataclasses import replace\n",
    "\n",
    "\n",
    "price = []\n",
    "for k in soup.findAll('span', {'class': \"pricing-table-price\"}):\n",
    "\n",
    "            price.append('$'+re.findall(r'\\d+', k.contents[0])[0])\n",
    "    \n",
    "price    #f.append(re.findall(r'\\d+', m.text) "
   ]
  },
  {
   "cell_type": "code",
   "execution_count": 15,
   "metadata": {},
   "outputs": [],
   "source": [
    "c=[]\n",
    "for p in soup.find_all('li') : \n",
    "    c.append(re.findall(f'\\d+', p.text))\n",
    "    c.sort()"
   ]
  },
  {
   "cell_type": "code",
   "execution_count": 16,
   "metadata": {},
   "outputs": [
    {
     "name": "stdout",
     "output_type": "stream",
     "text": [
      "123\n"
     ]
    }
   ],
   "source": [
    "    nums = [1, 2, 3]\n",
    "s = ''.join(map(str, nums))\n",
    "    print(s) \n"
   ]
  },
  {
   "cell_type": "code",
   "execution_count": 17,
   "metadata": {},
   "outputs": [
    {
     "data": {
      "text/plain": [
       "['$5', '$25', '$45']"
      ]
     },
     "execution_count": 17,
     "metadata": {},
     "output_type": "execute_result"
    }
   ],
   "source": [
    "\n",
    "price = []\n",
    "for k in soup.findAll('span', {'class': \"pricing-table-price\"}):\n",
    "\n",
    "            price.append('$'+re.findall(r'\\d+', k.contents[0])[0])\n",
    "\n",
    "price\n"
   ]
  },
  {
   "cell_type": "code",
   "execution_count": null,
   "metadata": {},
   "outputs": [],
   "source": []
  },
  {
   "cell_type": "markdown",
   "metadata": {},
   "source": [
    "**Partie B**\n",
    "\n",
    "*L'abus d'alcool est dangereux pour la santé, à consommer avec modération.*\n",
    "\n",
    "1) Ecrire une fonction `extract_beer_infos()` qui extrait des informations sur une bière du site de bières *beowulf*.\n",
    "\n",
    "Exemple d'URL: https://www.beerwulf.com/fr-fr/p/bieres/cuvee-des-trolls.33² \n",
    "\n",
    "La fonction doit retourner :\n",
    "```json\n",
    "{'Nom': 'Cuvée des Trolls',\n",
    " 'Style': 'Bière Blonde',\n",
    " 'Contenu': 25,\n",
    " 'Degré d’alcool': 7.0,\n",
    " 'Origine': 'Belgique',\n",
    " 'Brasseur': 'Brasserie Dubuisson Freres'}\n",
    "```\n",
    "\n",
    "2) L'URL ci-après retourne un JSON avec une liste de bières :\n",
    "\n",
    "```python\n",
    "URL_BEERLIST_FRANCE = \"https://www.beerwulf.com/fr-FR/api/search/searchProducts?country=France&container=Bouteille\"\n",
    "```\n",
    "\n",
    "Ecrire une fonction `extract_beer_list_infos(url)` qui prend en argument cet URL et retourne les informations sur une liste de bières du site *beowulf*.\n",
    "\n",
    "Cette fonction doit retourner la liste des informations obtenues par la fonction précédemment définie `extract_beer_infos()`.\n",
    "\n",
    "Exemple de retour :\n",
    "\n",
    "```json\n",
    "[{'Nom':'Desperados','Style':'Lager','Contenu':33,'Degré d’alcool':5.9,'Origine':'France','Brasseur':'Desperados'},\n",
    "{'Nom':'La Lager Sans Gluten de Vézelay','Style':'Lager','Contenu':25,'Degré d’alcool':4.0,'Origine':'France','Brasseur':'Brasserie de Vézelay'},\n",
    "{'Nom':'Mélusine Bio','Style':'Pale Ale','Contenu': 33,'Degré d’alcool': 5.0,'Origine':'France','Brasseur':'Mélusine'},\n",
    "{'Nom':'La Parisienne Le Titi Parisien','Style':'IPA','Contenu':33,'Degré d’alcool':5.5,'Origine':'France','Brasseur': 'Brasserie la Parisienne'},\n",
    "{'Nom':'Brasserie De Sutter Brin de Folie','Style':'Bière Blonde','Contenu': 33,'Degré d’alcool':6.5,'Origine':'France','Brasseur':'Brasserie de Sutter'}]\n",
    "```\n",
    "\n",
    "**Facultatif**\n",
    "\n",
    "Chercher comment optimiser cette fonction en utilisant `multiprocessing.Pool()` pour paralléliser les accès web."
   ]
  },
  {
   "cell_type": "code",
   "execution_count": 40,
   "metadata": {},
   "outputs": [],
   "source": [
    "# partie B-1\n",
    "def extract_beer_infos(url):\n",
    "    beer_infos = {\n",
    "        'Nom': None,\n",
    "        'Style': None,\n",
    "        'Contenu': None,\n",
    "        'Degré d’alcool': None,\n",
    "        'Origine': None,\n",
    "        'Brasseur': None\n",
    "    }\n",
    "    r1 = requests.get(url)\n",
    "    content1 = r1.content.decode('utf-8')\n",
    "    soup1 = BeautifulSoup(content1)\n",
    "    nom = re.search('(.*)(?= -)',soup1.find('h1', {'class': \"product-name\"}).text)[0]\n",
    "    style = soup1.find('dl', {'class': \"row\"}).find('a').text\n",
    "    contenu = int(re.search('[0-9,]+',soup1.find('dl', {'class': \"row\"}).find('dd', {'class': \"small-6 medium-9 columns js-beer-volume\"}).text)[0])\n",
    "    degre = float(re.search('[0-9,]+%',soup1.find('dl', {'class': \"row\"}).text)[0][:-1].replace(',','.'))\n",
    "    origine = re.search('[A-Za-z]+',soup1.find('dl', {'class': \"row\"}).find('dd', {'class': \"small-6 medium-9 columns js-beer-country\"}).text)[0]\n",
    "    brasseur = soup1.find('dl', {'class': \"row\"}).find_all('a')[1].text\n",
    "    beer_infos['Nom'] = nom\n",
    "    beer_infos['Style'] = style\n",
    "    beer_infos['Contenu'] = contenu\n",
    "    beer_infos['Degré d’alcool'] = degre\n",
    "    beer_infos['Origine'] = origine\n",
    "    beer_infos['Brasseur'] = brasseur\n",
    "    \n",
    "    return beer_infos"
   ]
  },
  {
   "cell_type": "code",
   "execution_count": 39,
   "metadata": {},
   "outputs": [
    {
     "data": {
      "text/plain": [
       "2"
      ]
     },
     "execution_count": 39,
     "metadata": {},
     "output_type": "execute_result"
    }
   ],
   "source": [
    "url = 'https://www.beerwulf.com/fr-fr/p/bieres/mama-ipa-fut--2l'\n",
    "r1 = requests.get(url)\n",
    "content1 = r1.content.decode('utf-8')\n",
    "soup1 = BeautifulSoup(content1)\n",
    "nom = re.search('(.*)(?= -)',soup1.find('h1', {'class': \"product-name\"}).text)[0]\n",
    "style = soup1.find('dl', {'class': \"row\"}).find('a').text\n",
    "contenu = int(re.search('[0-9,]+',soup1.find('dl', {'class': \"row\"}).find('dd', {'class': \"small-6 medium-9 columns js-beer-volume\"}).text)[0])\n",
    "contenu"
   ]
  },
  {
   "cell_type": "code",
   "execution_count": 20,
   "metadata": {},
   "outputs": [],
   "source": [
    "# partie B-2\n",
    "URL_BEERLIST_FRANCE = \"https://www.beerwulf.com/fr-FR/api/search/searchProducts?country=France&container=Bouteille\"\n",
    "\n",
    "def extract_beer_list_infos(url):\n",
    "    # Collecter les pages de bières à partir du JSON\n",
    "    beer_pages = []\n",
    "    r2 = requests.get(URL_BEERLIST_FRANCE)\n",
    "    for item in r2.json()['items']:\n",
    "        beer_url = 'https://www.beerwulf.com' + item['contentReference']\n",
    "        beer_pages.append(beer_url)\n",
    "    \n",
    "    # Sequential version (slow):\n",
    "    beers = []\n",
    "    for beer in beer_pages:\n",
    "        beers.append(extract_beer_infos(beer))\n",
    "\n",
    "    # Facultatif\n",
    "    # Parallel version (faster):\n",
    "    # beers = []\n",
    "    \n",
    "    return beers"
   ]
  },
  {
   "cell_type": "code",
   "execution_count": 41,
   "metadata": {},
   "outputs": [],
   "source": [
    "import unittest\n",
    "\n",
    "class Session4Tests(unittest.TestCase):\n",
    "    def test_01_get_prices_from_url_page2(self):\n",
    "        prices = get_prices_from_url(URL_PAGE2)\n",
    "        # We should have found 3 products:\n",
    "        self.assertIsInstance(prices, dict)\n",
    "        self.assertEqual(len(prices), 3)\n",
    "        self.assertIn('Personal', prices)\n",
    "        self.assertIn('Small Business', prices)\n",
    "        self.assertIn('Enterprise', prices)\n",
    "        \n",
    "        personal = prices['Personal']\n",
    "        self.assertIn('price', personal)\n",
    "        self.assertIn('storage', personal)\n",
    "        self.assertIn('databases', personal)\n",
    "        self.assertEqual(personal['price'], '$5')\n",
    "        self.assertEqual(personal['storage'], '1GB')\n",
    "        self.assertEqual(personal['databases'], 1)\n",
    "        \n",
    "    def test_02_get_prices_from_url_page3(self):\n",
    "        prices = get_prices_from_url(URL_PAGE3)\n",
    "        self.assertIsInstance(prices, dict)\n",
    "        self.assertEqual(len(prices), 4)\n",
    "        self.assertEqual(\n",
    "            prices['Privilege'],\n",
    "            {'databases': 100, 'price': '$99', 'storage': '1TB'}\n",
    "        )\n",
    "    \n",
    "    def test_03_extract_beer_list_infos(self):\n",
    "        infos = extract_beer_list_infos(URL_BEERLIST_FRANCE)\n",
    "        self.assertIsInstance(infos, list)\n",
    "        self.assertGreater(len(infos), 1)\n",
    "        # Contenu = int\n",
    "        # Degré d’alcool = float\n",
    "        for beer in infos:\n",
    "            self.assertIsInstance(beer['Nom'], str)\n",
    "            self.assertIsInstance(beer['Style'], str)\n",
    "            self.assertIsInstance(beer['Contenu'], int)\n",
    "            self.assertIsInstance(beer['Degré d’alcool'], float)\n",
    "            self.assertEqual(beer['Origine'], \"France\")\n",
    "            self.assertIsInstance(beer['Brasseur'], str)\n",
    "\n",
    "            \n",
    "def run_tests():\n",
    "    test_suite = unittest.makeSuite(Session4Tests)\n",
    "    runner = unittest.TextTestRunner(verbosity=2)\n",
    "    runner.run(test_suite)"
   ]
  },
  {
   "cell_type": "code",
   "execution_count": 42,
   "metadata": {},
   "outputs": [
    {
     "name": "stderr",
     "output_type": "stream",
     "text": [
      "test_01_get_prices_from_url_page2 (__main__.Session4Tests) ... ok\n",
      "test_02_get_prices_from_url_page3 (__main__.Session4Tests) ... FAIL\n",
      "test_03_extract_beer_list_infos (__main__.Session4Tests) ... ERROR\n",
      "\n",
      "======================================================================\n",
      "ERROR: test_03_extract_beer_list_infos (__main__.Session4Tests)\n",
      "----------------------------------------------------------------------\n",
      "Traceback (most recent call last):\n",
      "  File \"C:\\Users\\maxim\\AppData\\Local\\Temp\\ipykernel_20076\\4233507175.py\", line 31, in test_03_extract_beer_list_infos\n",
      "    infos = extract_beer_list_infos(URL_BEERLIST_FRANCE)\n",
      "  File \"C:\\Users\\maxim\\AppData\\Local\\Temp\\ipykernel_20076\\1166106448.py\", line 15, in extract_beer_list_infos\n",
      "    beers.append(extract_beer_infos(beer))\n",
      "  File \"C:\\Users\\maxim\\AppData\\Local\\Temp\\ipykernel_20076\\418844793.py\", line 14, in extract_beer_infos\n",
      "    nom = re.search('(.*)(?= -)',soup1.find('h1', {'class': \"product-name\"}).text)[0]\n",
      "TypeError: 'NoneType' object is not subscriptable\n",
      "\n",
      "======================================================================\n",
      "FAIL: test_02_get_prices_from_url_page3 (__main__.Session4Tests)\n",
      "----------------------------------------------------------------------\n",
      "Traceback (most recent call last):\n",
      "  File \"C:\\Users\\maxim\\AppData\\Local\\Temp\\ipykernel_20076\\4233507175.py\", line 24, in test_02_get_prices_from_url_page3\n",
      "    self.assertEqual(len(prices), 4)\n",
      "AssertionError: 3 != 4\n",
      "\n",
      "----------------------------------------------------------------------\n",
      "Ran 3 tests in 0.722s\n",
      "\n",
      "FAILED (failures=1, errors=1)\n"
     ]
    }
   ],
   "source": [
    "if __name__ == '__main__':\n",
    "    run_tests()"
   ]
  },
  {
   "cell_type": "code",
   "execution_count": null,
   "metadata": {},
   "outputs": [],
   "source": []
  }
 ],
 "metadata": {
  "kernelspec": {
   "display_name": "Python 3.9.12 ('base')",
   "language": "python",
   "name": "python3"
  },
  "language_info": {
   "codemirror_mode": {
    "name": "ipython",
    "version": 3
   },
   "file_extension": ".py",
   "mimetype": "text/x-python",
   "name": "python",
   "nbconvert_exporter": "python",
   "pygments_lexer": "ipython3",
   "version": "3.9.12"
  },
  "vscode": {
   "interpreter": {
    "hash": "e5968b5040b5ad352cfbb4ff25bb1bcaf98d7df2ec40bbe97243e74cb50ceb66"
   }
  }
 },
 "nbformat": 4,
 "nbformat_minor": 4
}
